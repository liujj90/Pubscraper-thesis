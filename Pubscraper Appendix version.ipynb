{
 "cells": [
  {
   "cell_type": "markdown",
   "metadata": {},
   "source": [
    "## Scraping Pubmed (NCBI database) for abstract data\n",
    "\n",
    "Using Biopython library via Python 3 to generate a data frame (.csv) from available medline data of a pre-defined search string"
   ]
  },
  {
   "cell_type": "code",
   "execution_count": 15,
   "metadata": {
    "collapsed": false
   },
   "outputs": [
    {
     "name": "stdout",
     "output_type": "stream",
     "text": [
      "Pandas version: 0.20.3\n",
      "Biopython version: 1.66\n",
      "Matplotlib version: 1.5.1+1795.g515ba4b\n"
     ]
    }
   ],
   "source": [
    "# import libraries\n",
    "import Bio\n",
    "import matplotlib\n",
    "import pandas\n",
    "from Bio import Entrez\n",
    "import matplotlib.pyplot as plt\n",
    "%matplotlib inline\n",
    "import seaborn as sb\n",
    "import pandas as pd\n",
    "\n",
    "# Check version\n",
    "print('Pandas version: %s' %pd.__version__)\n",
    "print('Biopython version: %s' %Bio.__version__)\n",
    "print('Matplotlib version: %s' %matplotlib.__version__)"
   ]
  },
  {
   "cell_type": "markdown",
   "metadata": {},
   "source": [
    "## Total number of Pubmed entries"
   ]
  },
  {
   "cell_type": "code",
   "execution_count": 52,
   "metadata": {
    "collapsed": false
   },
   "outputs": [
    {
     "name": "stdout",
     "output_type": "stream",
     "text": [
      "8502\n"
     ]
    },
    {
     "data": {
      "text/plain": [
       "0"
      ]
     },
     "execution_count": 52,
     "metadata": {},
     "output_type": "execute_result"
    }
   ],
   "source": [
    "Entrez.email = \"jiajun.liu@adelaide.edu.au\"\n",
    "handle = Entrez.egquery(term=\"glucocor* AND immune\")\n",
    "record = Entrez.read(handle)\n",
    "\n",
    "# number of entries\n",
    "for row in record[\"eGQueryResult\"]:\n",
    "    numberentries = 0 \n",
    "    if row[\"DbName\"]==\"pubmed\":\n",
    "        print(row[\"Count\"])\n",
    "        numberentries = row[\"Count\"]   \n",
    "        \n",
    "numberentries        "
   ]
  },
  {
   "cell_type": "markdown",
   "metadata": {},
   "source": [
    "## Get list of PubMed  IDs"
   ]
  },
  {
   "cell_type": "code",
   "execution_count": 17,
   "metadata": {
    "collapsed": true
   },
   "outputs": [
    {
     "name": "stdout",
     "output_type": "stream",
     "text": [
      "Found 10 results\n",
      "1\n",
      "NCID_1_151528049_130.14.18.34_9001_1501575572_617495126_0MetA0_S_MegaStore_F_1\n"
     ]
    },
    {
     "name": "stderr",
     "output_type": "stream",
     "text": [
      "/Library/Python/2.7/site-packages/biopython-1.66-py2.7-macosx-10.11-intel.egg/Bio/Entrez/__init__.py:502: UserWarning: \n",
      "Email address is not specified.\n",
      "\n",
      "To make use of NCBI's E-utilities, NCBI requires you to specify your\n",
      "email address with each request.  As an example, if your email address\n",
      "is A.N.Other@example.com, you can specify it as follows:\n",
      "   from Bio import Entrez\n",
      "   Entrez.email = 'A.N.Other@example.com'\n",
      "In case of excessive usage of the E-utilities, NCBI will attempt to contact\n",
      "a user at the email address provided before blocking access to the\n",
      "E-utilities.\n",
      "  E-utilities.\"\"\", UserWarning)\n"
     ]
    }
   ],
   "source": [
    "#esearch to generate list of PMID \n",
    "handle= Entrez.esearch(db=\"pubmed\",term=\"glucocor* AND immune\", usehistory = 'y', retmax = 8494 )\n",
    "searchrecord= Entrez.read(handle)\n",
    "\n",
    "idlist= searchrecord[\"IdList\"]\n",
    "count = len(idlist)\n",
    "print(\"Found %i results\" % count)\n",
    "#print(idlist)\n",
    "\n",
    "#Store Session cookie and QueryKey\n",
    "webenv= searchrecord[\"WebEnv\"]\n",
    "query_key = searchrecord[\"QueryKey\"]\n",
    "\n",
    "\n",
    "print (query_key)\n",
    "print (webenv)"
   ]
  },
  {
   "cell_type": "code",
   "execution_count": 4,
   "metadata": {
    "collapsed": false
   },
   "outputs": [],
   "source": [
    "## WRITE ID LIST TO FILE\n",
    "\n",
    "IDLIST = list(idlist)\n",
    "#IDLIST = pd.Series(IDLIST)\n",
    "#IDLIST.to_csv('IDLIST.csv')"
   ]
  },
  {
   "cell_type": "markdown",
   "metadata": {},
   "source": [
    "## Get Medline file of searched PMIDs"
   ]
  },
  {
   "cell_type": "code",
   "execution_count": 18,
   "metadata": {
    "collapsed": false
   },
   "outputs": [
    {
     "name": "stdout",
     "output_type": "stream",
     "text": [
      "going to download record 1 to 10\n"
     ]
    }
   ],
   "source": [
    "## Import Medline\n",
    "\n",
    "import time\n",
    "\n",
    "output = open(\"data.txt\", \"w\")\n",
    "# Determine Batch\n",
    "batch_size = 10\n",
    "# Fetch data in batches\n",
    "\n",
    "\n",
    "for start in range(0, count, batch_size):\n",
    "    end = min(count, start+batch_size)\n",
    "    print(\"going to download record %i to %i\" % (start+1, end));\n",
    "    fetch_handle = Entrez.efetch(db = \"pubmed\", rettype = \"medline\", retmode = \"text\", \n",
    "                                 retstart= start, retmax = end, webenv=webenv, query_key=query_key, post = True)\n",
    "    data = fetch_handle.read()\n",
    "    output.write(data)\n",
    "    time.sleep(3) # make sure to sleep between each batch\n",
    "output.close()\n",
    "    "
   ]
  },
  {
   "cell_type": "code",
   "execution_count": null,
   "metadata": {
    "collapsed": true
   },
   "outputs": [],
   "source": [
    "## DEPLOY ONLY IF USE HISTORY FAILS\n",
    "#import time\n",
    "#output = open(\"data.txt\", \"w\")\n",
    "# Determine Batch\n",
    "#batch_size = 10\n",
    "## Fetch data in batches\n",
    "\n",
    "\"\"\"\n",
    "for start in range(0, count, batch_size):\n",
    "    end = min(count, start+batch_size)\n",
    "    print(\"going to download record %i to %i\" % (start+1, end))\n",
    "    fetch_handle = Entrez.efetch(db = \"pubmed\", rettype = \"medline\", retmode = \"text\", \n",
    "                                 id = idlist, retstart= start, retmax = end, post = True)\n",
    "    data = fetch_handle.read()\n",
    "    output.write(data)\n",
    "    time.sleep(3) # make sure to sleep between each batch\n",
    "output.close()\n",
    "\"\"\"    "
   ]
  },
  {
   "cell_type": "markdown",
   "metadata": {},
   "source": [
    "## Generate DataFrame"
   ]
  },
  {
   "cell_type": "code",
   "execution_count": 80,
   "metadata": {
    "collapsed": false
   },
   "outputs": [],
   "source": [
    "from Bio import Medline\n",
    "dataset = open(\"data.txt\", \"r\") \n",
    "\n",
    "# Parse medline data\n",
    "data = Medline.parse(dataset)  "
   ]
  },
  {
   "cell_type": "code",
   "execution_count": 81,
   "metadata": {
    "collapsed": false
   },
   "outputs": [],
   "source": [
    "medlinefile = list(data)\n",
    "\n",
    "#reader = pd.read_csv('alldata.csv', error_bad_lines = False, nrows = 1000000, low_memory=False) ## Debug: Memory issue"
   ]
  },
  {
   "cell_type": "code",
   "execution_count": 82,
   "metadata": {
    "collapsed": false
   },
   "outputs": [],
   "source": [
    "# set up dataframe\n",
    "d = pd.DataFrame(medlinefile)"
   ]
  },
  {
   "cell_type": "code",
   "execution_count": null,
   "metadata": {
    "collapsed": true
   },
   "outputs": [],
   "source": [
    "# d['PMID'].value_counts() # Check How many duplicates there are\n",
    "# d.loc[d.PMID.isin(['%s'])] %TOP_DUPLICATE_VALUE # Look at duplicate rows- check if they make sense"
   ]
  },
  {
   "cell_type": "code",
   "execution_count": 76,
   "metadata": {
    "collapsed": true
   },
   "outputs": [
    {
     "data": {
      "text/plain": [
       "19404519    128\n",
       "19418731    128\n",
       "19404521    128\n",
       "19424046    128\n",
       "19426224    128\n",
       "19419738    128\n",
       "19409827    128\n",
       "21425972    128\n",
       "19432889    128\n",
       "19399500    128\n",
       "19384873    127\n",
       "19387765    127\n",
       "19376397    127\n",
       "19387032    127\n",
       "19373457    127\n",
       "19440116    127\n",
       "19398001    127\n",
       "19467321    127\n",
       "19435796    127\n",
       "19433626    127\n",
       "19464360    127\n",
       "19494313    127\n",
       "19398916    127\n",
       "19386083    127\n",
       "19371813    127\n",
       "19489103    127\n",
       "19435479    127\n",
       "25384870    127\n",
       "21426128    127\n",
       "19390148    127\n",
       "           ... \n",
       "26767526      1\n",
       "26799851      1\n",
       "11054347      1\n",
       "26749950      1\n",
       "11024552      1\n",
       "26801639      1\n",
       "11061532      1\n",
       "26756637      1\n",
       "11007144      1\n",
       "26762089      1\n",
       "11016271      1\n",
       "26745276      1\n",
       "26748887      1\n",
       "26746234      1\n",
       "11054981      1\n",
       "11056663      1\n",
       "26801103      1\n",
       "11024533      1\n",
       "26810223      1\n",
       "11067955      1\n",
       "11060520      1\n",
       "11019530      1\n",
       "26790188      1\n",
       "26807874      1\n",
       "11060527      1\n",
       "26812334      1\n",
       "26745435      1\n",
       "11042469      1\n",
       "26778776      1\n",
       "11044214      1\n",
       "dtype: int64"
      ]
     },
     "execution_count": 76,
     "metadata": {},
     "output_type": "execute_result"
    }
   ],
   "source": [
    "#drop duplicates\n",
    "x= d.drop_duplicates(subset = ['PMID'])"
   ]
  },
  {
   "cell_type": "code",
   "execution_count": 96,
   "metadata": {
    "collapsed": true
   },
   "outputs": [],
   "source": [
    "# Write dataframe to csv, LOAD THIS FILE FOR ANALYSIS INSTEAD\n",
    "x.to_csv('dataframe.csv', header = True, index = False)"
   ]
  }
 ],
 "metadata": {
  "kernelspec": {
   "display_name": "Python 2",
   "language": "python",
   "name": "python2"
  },
  "language_info": {
   "codemirror_mode": {
    "name": "ipython",
    "version": 2
   },
   "file_extension": ".py",
   "mimetype": "text/x-python",
   "name": "python",
   "nbconvert_exporter": "python",
   "pygments_lexer": "ipython2",
   "version": "2.7.10"
  }
 },
 "nbformat": 4,
 "nbformat_minor": 0
}
